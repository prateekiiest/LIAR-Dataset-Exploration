{
 "cells": [
  {
   "cell_type": "markdown",
   "metadata": {},
   "source": [
    "# Analyzing LIAR Plus Data Set"
   ]
  },
  {
   "cell_type": "markdown",
   "metadata": {},
   "source": [
    "## DataSet Visualization"
   ]
  },
  {
   "cell_type": "markdown",
   "metadata": {},
   "source": [
    "### Loading Training Data Set"
   ]
  },
  {
   "cell_type": "code",
   "execution_count": 33,
   "metadata": {
    "collapsed": false
   },
   "outputs": [
    {
     "data": {
      "text/html": [
       "<div>\n",
       "<style scoped>\n",
       "    .dataframe tbody tr th:only-of-type {\n",
       "        vertical-align: middle;\n",
       "    }\n",
       "\n",
       "    .dataframe tbody tr th {\n",
       "        vertical-align: top;\n",
       "    }\n",
       "\n",
       "    .dataframe thead th {\n",
       "        text-align: right;\n",
       "    }\n",
       "</style>\n",
       "<table border=\"1\" class=\"dataframe\">\n",
       "  <thead>\n",
       "    <tr style=\"text-align: right;\">\n",
       "      <th></th>\n",
       "      <th>Statement ID</th>\n",
       "      <th>Label</th>\n",
       "      <th>Statement</th>\n",
       "      <th>Subject</th>\n",
       "      <th>Speaker</th>\n",
       "      <th>Speaker Job's title</th>\n",
       "      <th>State info</th>\n",
       "      <th>Party Affiliate</th>\n",
       "      <th>barely true counts</th>\n",
       "      <th>false counts</th>\n",
       "      <th>half true counts</th>\n",
       "      <th>mostly true counts</th>\n",
       "      <th>pants on fire counts</th>\n",
       "      <th>venue</th>\n",
       "      <th>Extracted Justification</th>\n",
       "    </tr>\n",
       "  </thead>\n",
       "  <tbody>\n",
       "    <tr>\n",
       "      <th>0</th>\n",
       "      <td>2635.json</td>\n",
       "      <td>false</td>\n",
       "      <td>Says the Annies List political group supports ...</td>\n",
       "      <td>abortion</td>\n",
       "      <td>dwayne-bohac</td>\n",
       "      <td>State representative</td>\n",
       "      <td>Texas</td>\n",
       "      <td>republican</td>\n",
       "      <td>0.0</td>\n",
       "      <td>1.0</td>\n",
       "      <td>0.0</td>\n",
       "      <td>0.0</td>\n",
       "      <td>0.0</td>\n",
       "      <td>a mailer</td>\n",
       "      <td>That's a premise that he fails to back up. Ann...</td>\n",
       "    </tr>\n",
       "    <tr>\n",
       "      <th>1</th>\n",
       "      <td>10540.json</td>\n",
       "      <td>half-true</td>\n",
       "      <td>When did the decline of coal start? It started...</td>\n",
       "      <td>energy,history,job-accomplishments</td>\n",
       "      <td>scott-surovell</td>\n",
       "      <td>State delegate</td>\n",
       "      <td>Virginia</td>\n",
       "      <td>democrat</td>\n",
       "      <td>0.0</td>\n",
       "      <td>0.0</td>\n",
       "      <td>1.0</td>\n",
       "      <td>1.0</td>\n",
       "      <td>0.0</td>\n",
       "      <td>a floor speech.</td>\n",
       "      <td>Surovell said the decline of coal \"started whe...</td>\n",
       "    </tr>\n",
       "    <tr>\n",
       "      <th>2</th>\n",
       "      <td>324.json</td>\n",
       "      <td>mostly-true</td>\n",
       "      <td>Hillary Clinton agrees with John McCain \"by vo...</td>\n",
       "      <td>foreign-policy</td>\n",
       "      <td>barack-obama</td>\n",
       "      <td>President</td>\n",
       "      <td>Illinois</td>\n",
       "      <td>democrat</td>\n",
       "      <td>70.0</td>\n",
       "      <td>71.0</td>\n",
       "      <td>160.0</td>\n",
       "      <td>163.0</td>\n",
       "      <td>9.0</td>\n",
       "      <td>Denver</td>\n",
       "      <td>Obama said he would have voted against the ame...</td>\n",
       "    </tr>\n",
       "    <tr>\n",
       "      <th>3</th>\n",
       "      <td>1123.json</td>\n",
       "      <td>false</td>\n",
       "      <td>Health care reform legislation is likely to ma...</td>\n",
       "      <td>health-care</td>\n",
       "      <td>blog-posting</td>\n",
       "      <td>NaN</td>\n",
       "      <td>NaN</td>\n",
       "      <td>none</td>\n",
       "      <td>7.0</td>\n",
       "      <td>19.0</td>\n",
       "      <td>3.0</td>\n",
       "      <td>5.0</td>\n",
       "      <td>44.0</td>\n",
       "      <td>a news release</td>\n",
       "      <td>The release may have a point that Mikulskis co...</td>\n",
       "    </tr>\n",
       "    <tr>\n",
       "      <th>4</th>\n",
       "      <td>9028.json</td>\n",
       "      <td>half-true</td>\n",
       "      <td>The economic turnaround started at the end of ...</td>\n",
       "      <td>economy,jobs</td>\n",
       "      <td>charlie-crist</td>\n",
       "      <td>NaN</td>\n",
       "      <td>Florida</td>\n",
       "      <td>democrat</td>\n",
       "      <td>15.0</td>\n",
       "      <td>9.0</td>\n",
       "      <td>20.0</td>\n",
       "      <td>19.0</td>\n",
       "      <td>2.0</td>\n",
       "      <td>an interview on CNN</td>\n",
       "      <td>Crist said that the economic \"turnaround start...</td>\n",
       "    </tr>\n",
       "  </tbody>\n",
       "</table>\n",
       "</div>"
      ],
      "text/plain": [
       "  Statement ID        Label  \\\n",
       "0    2635.json        false   \n",
       "1   10540.json    half-true   \n",
       "2     324.json  mostly-true   \n",
       "3    1123.json        false   \n",
       "4    9028.json    half-true   \n",
       "\n",
       "                                           Statement  \\\n",
       "0  Says the Annies List political group supports ...   \n",
       "1  When did the decline of coal start? It started...   \n",
       "2  Hillary Clinton agrees with John McCain \"by vo...   \n",
       "3  Health care reform legislation is likely to ma...   \n",
       "4  The economic turnaround started at the end of ...   \n",
       "\n",
       "                              Subject         Speaker   Speaker Job's title  \\\n",
       "0                            abortion    dwayne-bohac  State representative   \n",
       "1  energy,history,job-accomplishments  scott-surovell        State delegate   \n",
       "2                      foreign-policy    barack-obama             President   \n",
       "3                         health-care    blog-posting                   NaN   \n",
       "4                        economy,jobs   charlie-crist                   NaN   \n",
       "\n",
       "  State info Party Affiliate  barely true counts  false counts  \\\n",
       "0      Texas      republican                 0.0           1.0   \n",
       "1   Virginia        democrat                 0.0           0.0   \n",
       "2   Illinois        democrat                70.0          71.0   \n",
       "3        NaN            none                 7.0          19.0   \n",
       "4    Florida        democrat                15.0           9.0   \n",
       "\n",
       "   half true counts  mostly true counts  pants on fire counts  \\\n",
       "0               0.0                 0.0                   0.0   \n",
       "1               1.0                 1.0                   0.0   \n",
       "2             160.0               163.0                   9.0   \n",
       "3               3.0                 5.0                  44.0   \n",
       "4              20.0                19.0                   2.0   \n",
       "\n",
       "                 venue                            Extracted Justification  \n",
       "0             a mailer  That's a premise that he fails to back up. Ann...  \n",
       "1      a floor speech.  Surovell said the decline of coal \"started whe...  \n",
       "2               Denver  Obama said he would have voted against the ame...  \n",
       "3       a news release  The release may have a point that Mikulskis co...  \n",
       "4  an interview on CNN  Crist said that the economic \"turnaround start...  "
      ]
     },
     "execution_count": 33,
     "metadata": {},
     "output_type": "execute_result"
    }
   ],
   "source": [
    "import pandas as pd \n",
    "# Read data from file 'filename.csv' \n",
    "# (in the same directory that your python process is based)\n",
    "# Control delimiters, rows, column names with read_csv (see later) \n",
    "data = pd.read_csv(\"LIAR-PLUS-master/dataset/train2.tsv\",sep='\\t',\n",
    "                   names=[\"Statement ID\", \"Label\", \"Statement\", \"Subject\", \"Speaker\", \"Speaker Job's title\", \"State info\", \n",
    "                          \"Party Affiliate\", \"barely true counts\", \"false counts\", \"half true counts\", \"mostly true counts\", \"pants on fire counts\", \"venue\", \"Extracted Justification\"]) \n",
    "# Preview the first 5 lines of the loaded data \n",
    "data.head()"
   ]
  },
  {
   "cell_type": "markdown",
   "metadata": {},
   "source": [
    "### DataSet Available at [Tariq/LIAR-Plus](https://github.com/Tariq60/LIAR-PLUS)\n",
    "\n",
    "\n",
    "* Column 1: the ID of the statement ([ID].json).\n",
    "* Column 2: the label.\n",
    "* Column 3: the statement.\n",
    "* Column 4: the subject(s).\n",
    "* Column 5: the speaker.\n",
    "* Column 6: the speaker's job title.\n",
    "* Column 7: the state info.\n",
    "* Column 8: the party affiliation.\n",
    "* Columns 9-13: the total credit history count, including the current statement.\n",
    "    * 9: barely true counts.\n",
    "    * 10: false counts.\n",
    "    * 11: half true counts.\n",
    "    * 12: mostly true counts.\n",
    "    * 13: pants on fire counts.\n",
    "* Column 14: the context (venue / location of the speech or statement).\n",
    "* Column 15: the extracted justification"
   ]
  },
  {
   "cell_type": "code",
   "execution_count": 34,
   "metadata": {
    "collapsed": false
   },
   "outputs": [
    {
     "name": "stdout",
     "output_type": "stream",
     "text": [
      "Statement ID                object\n",
      "Label                       object\n",
      "Statement                   object\n",
      "Subject                     object\n",
      "Speaker                     object\n",
      "Speaker Job's title         object\n",
      "State info                  object\n",
      "Party Affiliate             object\n",
      "barely true counts         float64\n",
      "false counts               float64\n",
      "half true counts           float64\n",
      "mostly true counts         float64\n",
      "pants on fire counts       float64\n",
      "venue                       object\n",
      "Extracted Justification     object\n",
      "dtype: object\n",
      "(10240, 15)\n"
     ]
    }
   ],
   "source": [
    "print(data.dtypes)\n",
    "print(data.shape)"
   ]
  },
  {
   "cell_type": "code",
   "execution_count": 35,
   "metadata": {
    "collapsed": false
   },
   "outputs": [
    {
     "data": {
      "text/html": [
       "<div>\n",
       "<style scoped>\n",
       "    .dataframe tbody tr th:only-of-type {\n",
       "        vertical-align: middle;\n",
       "    }\n",
       "\n",
       "    .dataframe tbody tr th {\n",
       "        vertical-align: top;\n",
       "    }\n",
       "\n",
       "    .dataframe thead th {\n",
       "        text-align: right;\n",
       "    }\n",
       "</style>\n",
       "<table border=\"1\" class=\"dataframe\">\n",
       "  <thead>\n",
       "    <tr style=\"text-align: right;\">\n",
       "      <th></th>\n",
       "      <th>Statement ID</th>\n",
       "      <th>Label</th>\n",
       "      <th>Statement</th>\n",
       "      <th>Subject</th>\n",
       "      <th>Speaker</th>\n",
       "      <th>Speaker Job's title</th>\n",
       "      <th>State info</th>\n",
       "      <th>Party Affiliate</th>\n",
       "      <th>barely true counts</th>\n",
       "      <th>false counts</th>\n",
       "      <th>half true counts</th>\n",
       "      <th>mostly true counts</th>\n",
       "      <th>pants on fire counts</th>\n",
       "      <th>venue</th>\n",
       "      <th>Extracted Justification</th>\n",
       "    </tr>\n",
       "  </thead>\n",
       "  <tbody>\n",
       "    <tr>\n",
       "      <th>0</th>\n",
       "      <td>2635.json</td>\n",
       "      <td>false</td>\n",
       "      <td>Says the Annies List political group supports ...</td>\n",
       "      <td>abortion</td>\n",
       "      <td>dwayne-bohac</td>\n",
       "      <td>State representative</td>\n",
       "      <td>Texas</td>\n",
       "      <td>republican</td>\n",
       "      <td>0.0</td>\n",
       "      <td>1.0</td>\n",
       "      <td>0.0</td>\n",
       "      <td>0.0</td>\n",
       "      <td>0.0</td>\n",
       "      <td>a mailer</td>\n",
       "      <td>That's a premise that he fails to back up. Ann...</td>\n",
       "    </tr>\n",
       "    <tr>\n",
       "      <th>1</th>\n",
       "      <td>10540.json</td>\n",
       "      <td>half-true</td>\n",
       "      <td>When did the decline of coal start? It started...</td>\n",
       "      <td>energy,history,job-accomplishments</td>\n",
       "      <td>scott-surovell</td>\n",
       "      <td>State delegate</td>\n",
       "      <td>Virginia</td>\n",
       "      <td>democrat</td>\n",
       "      <td>0.0</td>\n",
       "      <td>0.0</td>\n",
       "      <td>1.0</td>\n",
       "      <td>1.0</td>\n",
       "      <td>0.0</td>\n",
       "      <td>a floor speech.</td>\n",
       "      <td>Surovell said the decline of coal \"started whe...</td>\n",
       "    </tr>\n",
       "    <tr>\n",
       "      <th>2</th>\n",
       "      <td>324.json</td>\n",
       "      <td>mostly-true</td>\n",
       "      <td>Hillary Clinton agrees with John McCain \"by vo...</td>\n",
       "      <td>foreign-policy</td>\n",
       "      <td>barack-obama</td>\n",
       "      <td>President</td>\n",
       "      <td>Illinois</td>\n",
       "      <td>democrat</td>\n",
       "      <td>70.0</td>\n",
       "      <td>71.0</td>\n",
       "      <td>160.0</td>\n",
       "      <td>163.0</td>\n",
       "      <td>9.0</td>\n",
       "      <td>Denver</td>\n",
       "      <td>Obama said he would have voted against the ame...</td>\n",
       "    </tr>\n",
       "    <tr>\n",
       "      <th>3</th>\n",
       "      <td>1123.json</td>\n",
       "      <td>false</td>\n",
       "      <td>Health care reform legislation is likely to ma...</td>\n",
       "      <td>health-care</td>\n",
       "      <td>blog-posting</td>\n",
       "      <td>NaN</td>\n",
       "      <td>NaN</td>\n",
       "      <td>none</td>\n",
       "      <td>7.0</td>\n",
       "      <td>19.0</td>\n",
       "      <td>3.0</td>\n",
       "      <td>5.0</td>\n",
       "      <td>44.0</td>\n",
       "      <td>a news release</td>\n",
       "      <td>The release may have a point that Mikulskis co...</td>\n",
       "    </tr>\n",
       "    <tr>\n",
       "      <th>4</th>\n",
       "      <td>9028.json</td>\n",
       "      <td>half-true</td>\n",
       "      <td>The economic turnaround started at the end of ...</td>\n",
       "      <td>economy,jobs</td>\n",
       "      <td>charlie-crist</td>\n",
       "      <td>NaN</td>\n",
       "      <td>Florida</td>\n",
       "      <td>democrat</td>\n",
       "      <td>15.0</td>\n",
       "      <td>9.0</td>\n",
       "      <td>20.0</td>\n",
       "      <td>19.0</td>\n",
       "      <td>2.0</td>\n",
       "      <td>an interview on CNN</td>\n",
       "      <td>Crist said that the economic \"turnaround start...</td>\n",
       "    </tr>\n",
       "  </tbody>\n",
       "</table>\n",
       "</div>"
      ],
      "text/plain": [
       "  Statement ID        Label  \\\n",
       "0    2635.json        false   \n",
       "1   10540.json    half-true   \n",
       "2     324.json  mostly-true   \n",
       "3    1123.json        false   \n",
       "4    9028.json    half-true   \n",
       "\n",
       "                                           Statement  \\\n",
       "0  Says the Annies List political group supports ...   \n",
       "1  When did the decline of coal start? It started...   \n",
       "2  Hillary Clinton agrees with John McCain \"by vo...   \n",
       "3  Health care reform legislation is likely to ma...   \n",
       "4  The economic turnaround started at the end of ...   \n",
       "\n",
       "                              Subject         Speaker   Speaker Job's title  \\\n",
       "0                            abortion    dwayne-bohac  State representative   \n",
       "1  energy,history,job-accomplishments  scott-surovell        State delegate   \n",
       "2                      foreign-policy    barack-obama             President   \n",
       "3                         health-care    blog-posting                   NaN   \n",
       "4                        economy,jobs   charlie-crist                   NaN   \n",
       "\n",
       "  State info Party Affiliate  barely true counts  false counts  \\\n",
       "0      Texas      republican                 0.0           1.0   \n",
       "1   Virginia        democrat                 0.0           0.0   \n",
       "2   Illinois        democrat                70.0          71.0   \n",
       "3        NaN            none                 7.0          19.0   \n",
       "4    Florida        democrat                15.0           9.0   \n",
       "\n",
       "   half true counts  mostly true counts  pants on fire counts  \\\n",
       "0               0.0                 0.0                   0.0   \n",
       "1               1.0                 1.0                   0.0   \n",
       "2             160.0               163.0                   9.0   \n",
       "3               3.0                 5.0                  44.0   \n",
       "4              20.0                19.0                   2.0   \n",
       "\n",
       "                 venue                            Extracted Justification  \n",
       "0             a mailer  That's a premise that he fails to back up. Ann...  \n",
       "1      a floor speech.  Surovell said the decline of coal \"started whe...  \n",
       "2               Denver  Obama said he would have voted against the ame...  \n",
       "3       a news release  The release may have a point that Mikulskis co...  \n",
       "4  an interview on CNN  Crist said that the economic \"turnaround start...  "
      ]
     },
     "execution_count": 35,
     "metadata": {},
     "output_type": "execute_result"
    }
   ],
   "source": [
    "import pandas as pd \n",
    "# Read data from file 'filename.csv' \n",
    "# (in the same directory that your python process is based)\n",
    "# Control delimiters, rows, column names with read_csv (see later) \n",
    "test_data = pd.read_csv(\"LIAR-PLUS-master/dataset/train2.tsv\",sep='\\t',\n",
    "                   names=[\"Statement ID\", \"Label\", \"Statement\", \"Subject\", \"Speaker\", \"Speaker Job's title\", \"State info\", \n",
    "                          \"Party Affiliate\", \"barely true counts\", \"false counts\", \"half true counts\", \"mostly true counts\", \"pants on fire counts\", \"venue\", \"Extracted Justification\"]) \n",
    "# Preview the first 5 lines of the loaded data \n",
    "test_data.head()\n"
   ]
  },
  {
   "cell_type": "code",
   "execution_count": 5,
   "metadata": {
    "collapsed": false
   },
   "outputs": [
    {
     "data": {
      "text/plain": [
       "0           false\n",
       "1       half-true\n",
       "2     mostly-true\n",
       "3           false\n",
       "4       half-true\n",
       "5            true\n",
       "6     barely-true\n",
       "7       half-true\n",
       "8       half-true\n",
       "9     mostly-true\n",
       "10    mostly-true\n",
       "11      half-true\n",
       "12          false\n",
       "13    mostly-true\n",
       "14    barely-true\n",
       "15      half-true\n",
       "16           true\n",
       "17    barely-true\n",
       "18      half-true\n",
       "19    mostly-true\n",
       "Name: Label, dtype: object"
      ]
     },
     "execution_count": 5,
     "metadata": {},
     "output_type": "execute_result"
    }
   ],
   "source": [
    "data[\"Label\"].head(20)"
   ]
  },
  {
   "cell_type": "markdown",
   "metadata": {},
   "source": [
    "### Binary Classification"
   ]
  },
  {
   "cell_type": "markdown",
   "metadata": {
    "collapsed": false
   },
   "source": [
    "As we see from the data its a multi-class data having 6 classes namely \"false\", \"\"mostly-true\", \"barely-true\", \"half-true\", \"true\" , \"pants-fire\""
   ]
  },
  {
   "cell_type": "markdown",
   "metadata": {},
   "source": [
    "For the purpose of Binary Classification, we simply consider labels  \"\"mostly-true\", \"barely-true\", \"half-true\", \"true\" as \"true\" and \"false\" \"pants-fire\" as false"
   ]
  },
  {
   "cell_type": "markdown",
   "metadata": {},
   "source": [
    "#### Converting Training Data to Binary Labelled Data"
   ]
  },
  {
   "cell_type": "code",
   "execution_count": 6,
   "metadata": {
    "collapsed": true
   },
   "outputs": [],
   "source": [
    "\n",
    "bin_data = data"
   ]
  },
  {
   "cell_type": "code",
   "execution_count": 7,
   "metadata": {
    "collapsed": false
   },
   "outputs": [],
   "source": [
    "bin_data['Label'] = bin_data['Label'].replace(['false', 'pants-fire'], 0)"
   ]
  },
  {
   "cell_type": "code",
   "execution_count": 8,
   "metadata": {
    "collapsed": false
   },
   "outputs": [],
   "source": [
    "bin_data['Label'] = bin_data['Label'].replace(['mostly-true', 'half-true', 'barely-true', 'true'], 1)"
   ]
  },
  {
   "cell_type": "code",
   "execution_count": 9,
   "metadata": {
    "collapsed": false
   },
   "outputs": [
    {
     "data": {
      "text/plain": [
       "0    0\n",
       "1    1\n",
       "2    1\n",
       "3    0\n",
       "4    1\n",
       "5    1\n",
       "6    1\n",
       "7    1\n",
       "8    1\n",
       "9    1\n",
       "Name: Label, dtype: int64"
      ]
     },
     "execution_count": 9,
     "metadata": {},
     "output_type": "execute_result"
    }
   ],
   "source": [
    "bin_data['Label'].head(10)"
   ]
  },
  {
   "cell_type": "markdown",
   "metadata": {},
   "source": [
    "#### Converting Test Data to Binary Labelled Data"
   ]
  },
  {
   "cell_type": "code",
   "execution_count": 10,
   "metadata": {
    "collapsed": true
   },
   "outputs": [],
   "source": [
    "test_bin_data = test_data"
   ]
  },
  {
   "cell_type": "code",
   "execution_count": 11,
   "metadata": {
    "collapsed": true
   },
   "outputs": [],
   "source": [
    "test_bin_data['Label'] = test_bin_data['Label'].replace(['false', 'pants-fire'], 0)\n",
    "test_bin_data['Label'] = test_bin_data['Label'].replace(['mostly-true', 'half-true', 'barely-true', 'true'], 1)\n"
   ]
  },
  {
   "cell_type": "code",
   "execution_count": 12,
   "metadata": {
    "collapsed": false
   },
   "outputs": [],
   "source": [
    "def evaluate(model, test_set, model_name):\n",
    "    \n",
    "    y_pred = model.predict(test_set['Subject'].values.astype('U'))\n",
    "    y_true = test_set['Label']\n",
    "    f1 = f1_score(y_true, y_pred)\n",
    "    precision = precision_score(y_true, y_pred)\n",
    "    recall = recall_score(y_true, y_pred)\n",
    "    accuracy = accuracy_score(y_true, y_pred)\n",
    "    \n",
    "    print('::::: Evaluation Results :::: {}'.format(model_name))\n",
    "    print('Accuracy is: {}'.format(accuracy))\n",
    "    print('F1 score is: {}'.format(f1))\n",
    "    print('Precision score is: {}'.format(precision))\n",
    "    print('Recall score is: {}'.format(recall))\n",
    "    return accuracy"
   ]
  },
  {
   "cell_type": "code",
   "execution_count": 92,
   "metadata": {
    "collapsed": false
   },
   "outputs": [],
   "source": [
    "import pandas as pd\n",
    "from nltk.corpus import stopwords\n",
    "from sklearn.ensemble import RandomForestClassifier\n",
    "from sklearn.feature_extraction.text import CountVectorizer\n",
    "from sklearn.linear_model import LogisticRegression\n",
    "from sklearn.metrics import (accuracy_score, f1_score, precision_score,\n",
    "                             recall_score)\n",
    "\n",
    "from sklearn.pipeline import Pipeline\n"
   ]
  },
  {
   "cell_type": "markdown",
   "metadata": {},
   "source": [
    "### Linear Regression"
   ]
  },
  {
   "cell_type": "code",
   "execution_count": 15,
   "metadata": {
    "collapsed": false
   },
   "outputs": [],
   "source": [
    "lr_pipeline = Pipeline([\n",
    "    ('lrCV', CountVectorizer(stop_words=\"english\", lowercase=True, ngram_range=(1, 1))),\n",
    "    ('lr_clf', LogisticRegression(C=0.0001,random_state=42, n_jobs=-1))\n",
    "])"
   ]
  },
  {
   "cell_type": "code",
   "execution_count": 16,
   "metadata": {
    "collapsed": false
   },
   "outputs": [
    {
     "name": "stderr",
     "output_type": "stream",
     "text": [
      "C:\\Users\\pratik\\Anaconda2\\lib\\site-packages\\sklearn\\linear_model\\logistic.py:1228: UserWarning: 'n_jobs' > 1 does not have any effect when 'solver' is set to 'liblinear'. Got 'n_jobs' = -1.\n",
      "  \" = {}.\".format(self.n_jobs))\n"
     ]
    },
    {
     "data": {
      "text/plain": [
       "Pipeline(memory=None,\n",
       "     steps=[('lrCV', CountVectorizer(analyzer=u'word', binary=False, decode_error=u'strict',\n",
       "        dtype=<type 'numpy.int64'>, encoding=u'utf-8', input=u'content',\n",
       "        lowercase=True, max_df=1.0, max_features=None, min_df=1,\n",
       "        ngram_range=(1, 1), preprocessor=None, stop_words='english',\n",
       "     ...alty='l2', random_state=42,\n",
       "          solver='liblinear', tol=0.0001, verbose=0, warm_start=False))])"
      ]
     },
     "execution_count": 16,
     "metadata": {},
     "output_type": "execute_result"
    }
   ],
   "source": [
    "lr_pipeline.fit(bin_data['Subject'].values.astype('U'), bin_data['Label'])\n"
   ]
  },
  {
   "cell_type": "code",
   "execution_count": 17,
   "metadata": {
    "collapsed": false
   },
   "outputs": [
    {
     "name": "stdout",
     "output_type": "stream",
     "text": [
      "::::: Evaluation Results :::: Logistic Regression\n",
      "Accuracy is: 0.7232421875\n",
      "F1 score is: 0.839397030488\n",
      "Precision score is: 0.7232421875\n",
      "Recall score is: 1.0\n"
     ]
    }
   ],
   "source": [
    "lr_acc = evaluate(lr_pipeline, test_bin_data, 'Logistic Regression')\n"
   ]
  },
  {
   "cell_type": "markdown",
   "metadata": {},
   "source": [
    "### Support Vector Machine"
   ]
  },
  {
   "cell_type": "code",
   "execution_count": 18,
   "metadata": {
    "collapsed": true
   },
   "outputs": [],
   "source": [
    "from sklearn.feature_extraction import text\n",
    "from sklearn.svm import SVC\n"
   ]
  },
  {
   "cell_type": "code",
   "execution_count": 19,
   "metadata": {
    "collapsed": false
   },
   "outputs": [],
   "source": [
    "svm_pipeline = Pipeline([\n",
    "    ('svm_CV', CountVectorizer(stop_words=\"english\", lowercase=False, ngram_range=(1, 1))),\n",
    "    ('svm_clf', SVC(random_state=42, gamma=1.0, kernel='rbf'))\n",
    "])"
   ]
  },
  {
   "cell_type": "code",
   "execution_count": 20,
   "metadata": {
    "collapsed": false,
    "scrolled": true
   },
   "outputs": [
    {
     "data": {
      "text/plain": [
       "Pipeline(memory=None,\n",
       "     steps=[('svm_CV', CountVectorizer(analyzer=u'word', binary=False, decode_error=u'strict',\n",
       "        dtype=<type 'numpy.int64'>, encoding=u'utf-8', input=u'content',\n",
       "        lowercase=False, max_df=1.0, max_features=None, min_df=1,\n",
       "        ngram_range=(1, 1), preprocessor=None, stop_words='english',\n",
       "  ...f',\n",
       "  max_iter=-1, probability=False, random_state=42, shrinking=True,\n",
       "  tol=0.001, verbose=False))])"
      ]
     },
     "execution_count": 20,
     "metadata": {},
     "output_type": "execute_result"
    }
   ],
   "source": [
    "svm_pipeline.fit(bin_data['Subject'].values.astype('U'), bin_data['Label'])\n"
   ]
  },
  {
   "cell_type": "code",
   "execution_count": 21,
   "metadata": {
    "collapsed": false
   },
   "outputs": [
    {
     "name": "stdout",
     "output_type": "stream",
     "text": [
      "::::: Evaluation Results :::: SVM Count Vectorizer\n",
      "Accuracy is: 0.80400390625\n",
      "F1 score is: 0.879336259244\n",
      "Precision score is: 0.792565297496\n",
      "Recall score is: 0.987442614097\n"
     ]
    }
   ],
   "source": [
    "svm_acc = evaluate(svm_pipeline, test_bin_data, 'SVM Count Vectorizer')\n"
   ]
  },
  {
   "cell_type": "markdown",
   "metadata": {},
   "source": [
    "### Naive Bayes Classification\n"
   ]
  },
  {
   "cell_type": "code",
   "execution_count": 22,
   "metadata": {
    "collapsed": true
   },
   "outputs": [],
   "source": [
    "from sklearn.naive_bayes import MultinomialNB\n"
   ]
  },
  {
   "cell_type": "code",
   "execution_count": 23,
   "metadata": {
    "collapsed": false
   },
   "outputs": [],
   "source": [
    "nb_pipeline = Pipeline([\n",
    "    ('nb_CV', CountVectorizer(stop_words=\"english\", lowercase=True, ngram_range=(1, 10))),\n",
    "    ('nb_clf', MultinomialNB(alpha=6.8))\n",
    "])"
   ]
  },
  {
   "cell_type": "code",
   "execution_count": 24,
   "metadata": {
    "collapsed": false
   },
   "outputs": [
    {
     "data": {
      "text/plain": [
       "Pipeline(memory=None,\n",
       "     steps=[('nb_CV', CountVectorizer(analyzer=u'word', binary=False, decode_error=u'strict',\n",
       "        dtype=<type 'numpy.int64'>, encoding=u'utf-8', input=u'content',\n",
       "        lowercase=True, max_df=1.0, max_features=None, min_df=1,\n",
       "        ngram_range=(1, 10), preprocessor=None, stop_words='english',\n",
       "        strip_accents=None, token_pattern=u'(?u)\\\\b\\\\w\\\\w+\\\\b',\n",
       "        tokenizer=None, vocabulary=None)), ('nb_clf', MultinomialNB(alpha=6.8, class_prior=None, fit_prior=True))])"
      ]
     },
     "execution_count": 24,
     "metadata": {},
     "output_type": "execute_result"
    }
   ],
   "source": [
    "nb_pipeline.fit(bin_data['Subject'].values.astype('U'), bin_data['Label'])\n"
   ]
  },
  {
   "cell_type": "code",
   "execution_count": 25,
   "metadata": {
    "collapsed": false
   },
   "outputs": [
    {
     "name": "stdout",
     "output_type": "stream",
     "text": [
      "::::: Evaluation Results :::: Naive Bayes Count Vectorizer\n",
      "Accuracy is: 0.7287109375\n",
      "F1 score is: 0.842015468608\n",
      "Precision score is: 0.727353114561\n",
      "Recall score is: 0.999594923035\n"
     ]
    }
   ],
   "source": [
    "nb_acc = evaluate(nb_pipeline, test_bin_data, 'Naive Bayes Count Vectorizer')\n"
   ]
  },
  {
   "cell_type": "markdown",
   "metadata": {},
   "source": [
    "### Random Forest Classifier"
   ]
  },
  {
   "cell_type": "code",
   "execution_count": 26,
   "metadata": {
    "collapsed": false
   },
   "outputs": [],
   "source": [
    "rf_pipeline = Pipeline([\n",
    "    ('rf_CV', CountVectorizer(stop_words=\"english\", lowercase=False, ngram_range=(1, 1))),\n",
    "    ('rf_clf', RandomForestClassifier(max_depth=12, n_estimators=300, n_jobs=-1, random_state=42))\n",
    "])"
   ]
  },
  {
   "cell_type": "code",
   "execution_count": 30,
   "metadata": {
    "collapsed": false
   },
   "outputs": [
    {
     "data": {
      "text/plain": [
       "Pipeline(memory=None,\n",
       "     steps=[('rf_CV', CountVectorizer(analyzer=u'word', binary=False, decode_error=u'strict',\n",
       "        dtype=<type 'numpy.int64'>, encoding=u'utf-8', input=u'content',\n",
       "        lowercase=False, max_df=1.0, max_features=None, min_df=1,\n",
       "        ngram_range=(1, 1), preprocessor=None, stop_words='english',\n",
       "   ...imators=300, n_jobs=-1,\n",
       "            oob_score=False, random_state=42, verbose=0, warm_start=False))])"
      ]
     },
     "execution_count": 30,
     "metadata": {},
     "output_type": "execute_result"
    }
   ],
   "source": [
    "rf_pipeline.fit(bin_data['Subject'].values.astype('U'), bin_data['Label'])\n"
   ]
  },
  {
   "cell_type": "code",
   "execution_count": 32,
   "metadata": {
    "collapsed": false
   },
   "outputs": [
    {
     "name": "stdout",
     "output_type": "stream",
     "text": [
      "::::: Evaluation Results :::: Random Forest\n",
      "Accuracy is: 0.72685546875\n",
      "F1 score is: 0.841106629552\n",
      "Precision score is: 0.725997842503\n",
      "Recall score is: 0.999594923035\n"
     ]
    }
   ],
   "source": [
    "rf_acc = evaluate(rf_pipeline, test_data, 'Random Forest')\n"
   ]
  },
  {
   "cell_type": "markdown",
   "metadata": {},
   "source": [
    "## Multi Classification"
   ]
  },
  {
   "cell_type": "code",
   "execution_count": 36,
   "metadata": {
    "collapsed": true
   },
   "outputs": [],
   "source": [
    "def accuracy(model, test_set, model_name):\n",
    "    \n",
    "    y_pred = model.predict(test_set['Subject'].values.astype('U'))\n",
    "    y_true = test_set['Label']\n",
    "    #f1 = f1_score(y_true, y_pred)\n",
    "    #precision = precision_score(y_true, y_pred)\n",
    "    #recall = recall_score(y_true, y_pred)\n",
    "    accuracy = accuracy_score(y_true, y_pred)\n",
    "    \n",
    "    print('::::: Evaluation Results :::: {}'.format(model_name))\n",
    "    print('Accuracy is: {}'.format(accuracy))\n",
    "    return accuracy"
   ]
  },
  {
   "cell_type": "markdown",
   "metadata": {},
   "source": [
    "### Linear Regression"
   ]
  },
  {
   "cell_type": "code",
   "execution_count": 37,
   "metadata": {
    "collapsed": false
   },
   "outputs": [
    {
     "data": {
      "text/plain": [
       "Pipeline(memory=None,\n",
       "     steps=[('lrCV', CountVectorizer(analyzer=u'word', binary=False, decode_error=u'strict',\n",
       "        dtype=<type 'numpy.int64'>, encoding=u'utf-8', input=u'content',\n",
       "        lowercase=True, max_df=1.0, max_features=None, min_df=1,\n",
       "        ngram_range=(1, 1), preprocessor=None, stop_words='english',\n",
       "     ...alty='l2', random_state=42,\n",
       "          solver='liblinear', tol=0.0001, verbose=0, warm_start=False))])"
      ]
     },
     "execution_count": 37,
     "metadata": {},
     "output_type": "execute_result"
    }
   ],
   "source": [
    "lr_pipeline.fit(data['Subject'].values.astype('U'), data['Label'])\n"
   ]
  },
  {
   "cell_type": "code",
   "execution_count": 38,
   "metadata": {
    "collapsed": false
   },
   "outputs": [
    {
     "name": "stdout",
     "output_type": "stream",
     "text": [
      "::::: Evaluation Results :::: Logistic Regression \n",
      "Accuracy is: 0.20732421875\n"
     ]
    }
   ],
   "source": [
    "lr_mc_acc = accuracy(lr_pipeline, test_data, 'Logistic Regression ')\n"
   ]
  },
  {
   "cell_type": "markdown",
   "metadata": {},
   "source": [
    "### Support Vector Machine\n"
   ]
  },
  {
   "cell_type": "code",
   "execution_count": 39,
   "metadata": {
    "collapsed": false
   },
   "outputs": [
    {
     "data": {
      "text/plain": [
       "Pipeline(memory=None,\n",
       "     steps=[('svm_CV', CountVectorizer(analyzer=u'word', binary=False, decode_error=u'strict',\n",
       "        dtype=<type 'numpy.int64'>, encoding=u'utf-8', input=u'content',\n",
       "        lowercase=False, max_df=1.0, max_features=None, min_df=1,\n",
       "        ngram_range=(1, 1), preprocessor=None, stop_words='english',\n",
       "  ...f',\n",
       "  max_iter=-1, probability=False, random_state=42, shrinking=True,\n",
       "  tol=0.001, verbose=False))])"
      ]
     },
     "execution_count": 39,
     "metadata": {},
     "output_type": "execute_result"
    }
   ],
   "source": [
    "svm_pipeline.fit(data['Subject'].values.astype('U'), data['Label'])\n"
   ]
  },
  {
   "cell_type": "code",
   "execution_count": 40,
   "metadata": {
    "collapsed": false
   },
   "outputs": [
    {
     "name": "stdout",
     "output_type": "stream",
     "text": [
      "::::: Evaluation Results :::: SVM Count Vectorizer\n",
      "Accuracy is: 0.5267578125\n"
     ]
    }
   ],
   "source": [
    "svm_mc_acc = accuracy(svm_pipeline, test_data, 'SVM Count Vectorizer')\n"
   ]
  },
  {
   "cell_type": "markdown",
   "metadata": {},
   "source": [
    "### Naive Bayes\n"
   ]
  },
  {
   "cell_type": "code",
   "execution_count": 41,
   "metadata": {
    "collapsed": false
   },
   "outputs": [
    {
     "data": {
      "text/plain": [
       "Pipeline(memory=None,\n",
       "     steps=[('nb_CV', CountVectorizer(analyzer=u'word', binary=False, decode_error=u'strict',\n",
       "        dtype=<type 'numpy.int64'>, encoding=u'utf-8', input=u'content',\n",
       "        lowercase=True, max_df=1.0, max_features=None, min_df=1,\n",
       "        ngram_range=(1, 10), preprocessor=None, stop_words='english',\n",
       "        strip_accents=None, token_pattern=u'(?u)\\\\b\\\\w\\\\w+\\\\b',\n",
       "        tokenizer=None, vocabulary=None)), ('nb_clf', MultinomialNB(alpha=6.8, class_prior=None, fit_prior=True))])"
      ]
     },
     "execution_count": 41,
     "metadata": {},
     "output_type": "execute_result"
    }
   ],
   "source": [
    "nb_pipeline.fit(data['Subject'].values.astype('U'), data['Label'])\n"
   ]
  },
  {
   "cell_type": "code",
   "execution_count": 42,
   "metadata": {
    "collapsed": false
   },
   "outputs": [
    {
     "name": "stdout",
     "output_type": "stream",
     "text": [
      "::::: Evaluation Results :::: Naive Bayes\n",
      "Accuracy is: 0.3337890625\n"
     ]
    }
   ],
   "source": [
    "nb_mc_acc = accuracy(nb_pipeline, test_data, 'Naive Bayes')\n"
   ]
  },
  {
   "cell_type": "markdown",
   "metadata": {},
   "source": [
    "## Classification Results"
   ]
  },
  {
   "cell_type": "code",
   "execution_count": 52,
   "metadata": {
    "collapsed": true
   },
   "outputs": [],
   "source": [
    "import seaborn as sns\n",
    "import matplotlib.pyplot as plt\n",
    "%matplotlib inline"
   ]
  },
  {
   "cell_type": "code",
   "execution_count": 53,
   "metadata": {
    "collapsed": true
   },
   "outputs": [],
   "source": [
    "x_bin = [\"LR\", \"SVM\", \"NB\"]\n",
    "y_bin = [lr_acc,svm_acc,nb_acc]"
   ]
  },
  {
   "cell_type": "code",
   "execution_count": 54,
   "metadata": {
    "collapsed": false
   },
   "outputs": [
    {
     "data": {
      "text/plain": [
       "Text(0.5,1,'Binary Classification Accuracy')"
      ]
     },
     "execution_count": 54,
     "metadata": {},
     "output_type": "execute_result"
    },
    {
     "data": {
      "image/png": "[encoded data removed]",
      "text/plain": [
       "<Figure size 600x400 with 1 Axes>"
      ]
     },
     "metadata": {},
     "output_type": "display_data"
    }
   ],
   "source": [
    "sns.barplot(x_bin, y_bin, palette=\"Blues\")\n",
    "plt.title(\"Binary Classification Accuracy\")"
   ]
  },
  {
   "cell_type": "code",
   "execution_count": 55,
   "metadata": {
    "collapsed": true
   },
   "outputs": [],
   "source": [
    "x_mc = [\"LR\", \"SVM\", \"NB\"]\n",
    "y_mc = [lr_mc_acc,svm_mc_acc,nb_mc_acc]"
   ]
  },
  {
   "cell_type": "code",
   "execution_count": 56,
   "metadata": {
    "collapsed": false
   },
   "outputs": [
    {
     "data": {
      "text/plain": [
       "Text(0.5,1,'Multi Classification Accuracy')"
      ]
     },
     "execution_count": 56,
     "metadata": {},
     "output_type": "execute_result"
    },
    {
     "data": {
      "image/png": "[encoded data removed]",
      "text/plain": [
       "<Figure size 600x400 with 1 Axes>"
      ]
     },
     "metadata": {},
     "output_type": "display_data"
    }
   ],
   "source": [
    "sns.barplot(x_mc, y_mc, palette=\"Blues\")\n",
    "plt.title(\"Multi Classification Accuracy\")"
   ]
  },
  {
   "cell_type": "markdown",
   "metadata": {},
   "source": [
    "As we see binary classification gives better results since we only want to label a statement as either true or false.\n",
    "\n",
    "In case of six way classification, it gives worse results, due to the fact we have more restrictions in classifying within the \n",
    "6 categories. Hence we need to analyse specific features to build a stronger classifier."
   ]
  },
  {
   "cell_type": "markdown",
   "metadata": {},
   "source": [
    "---------------------------------------"
   ]
  },
  {
   "cell_type": "markdown",
   "metadata": {},
   "source": [
    "## Analyzing Feature Set from the Data"
   ]
  },
  {
   "cell_type": "markdown",
   "metadata": {},
   "source": [
    "Some of the features that define the data set include the Subject of the Statement, the Speaker of the statement, the speaker's job and the party affiliation."
   ]
  },
  {
   "cell_type": "markdown",
   "metadata": {},
   "source": [
    "### Exploring the Subject / Topic Feature"
   ]
  },
  {
   "cell_type": "markdown",
   "metadata": {},
   "source": [
    "The feature subject may be interesting in determining the truthfulness of a statement.\n",
    "\n",
    "First, we see how many unique subjects or topics are present in the data and how the truthfulness of the statement depends on \n",
    "the topic of a statement."
   ]
  },
  {
   "cell_type": "code",
   "execution_count": 57,
   "metadata": {
    "collapsed": false
   },
   "outputs": [
    {
     "data": {
      "text/plain": [
       "Index([u'Statement ID', u'Label', u'Statement', u'Subject', u'Speaker',\n",
       "       u'Speaker Job's title', u'State info', u'Party Affiliate',\n",
       "       u'barely true counts', u'false counts', u'half true counts',\n",
       "       u'mostly true counts', u'pants on fire counts', u'venue',\n",
       "       u'Extracted Justification'],\n",
       "      dtype='object')"
      ]
     },
     "execution_count": 57,
     "metadata": {},
     "output_type": "execute_result"
    }
   ],
   "source": [
    "data.columns"
   ]
  },
  {
   "cell_type": "code",
   "execution_count": 58,
   "metadata": {
    "collapsed": false
   },
   "outputs": [],
   "source": [
    "def topic_data(df):\n",
    "    \n",
    "    df = df.copy()\n",
    "    df[\"Subject\"] = df[\"Subject\"].apply(lambda x : str(x).lower().split(\",\"))\n",
    "    ## Create a dataframe of all subjects\n",
    "    subjects = df.Subject.apply(pd.Series)\n",
    "    cols = list(df.columns.values)\n",
    "    cols.remove(\"Subject\")\n",
    "   \n",
    "    df = subjects.merge(df, right_index = True, left_index = True) \\\n",
    "        .drop([\"Subject\"], axis = 1)\n",
    "        \n",
    "       \n",
    "    lf = pd.melt(df, id_vars = cols, value_name = \"Subject\") \\\n",
    "        .drop(\"variable\", axis = 1) \\\n",
    "    \n",
    "    return lf"
   ]
  },
  {
   "cell_type": "code",
   "execution_count": 59,
   "metadata": {
    "collapsed": false
   },
   "outputs": [
    {
     "name": "stdout",
     "output_type": "stream",
     "text": [
      "Total 144 unique subjects\n",
      "('Sample subjects:\\n', [nan, 'hunger', 'trade', 'welfare', 'homeland-security', 'children', 'occupy-wall-street', 'islam', 'retirement', 'workers'])\n"
     ]
    }
   ],
   "source": [
    "df_raw = data.sample(frac=1).reset_index()\n",
    "topic_data = topic_data(df_raw)\n",
    "\n",
    "set_of_subjects = set(topic_data['Subject'])\n",
    "    \n",
    "print(\"Total %d unique subjects\" % len(set_of_subjects))\n",
    "print(\"Sample subjects:\\n\", list(set_of_subjects)[:10])"
   ]
  },
  {
   "cell_type": "markdown",
   "metadata": {},
   "source": [
    "Finding unique subjects occuring more than 200 times"
   ]
  },
  {
   "cell_type": "code",
   "execution_count": 61,
   "metadata": {
    "collapsed": true
   },
   "outputs": [],
   "source": [
    "subject_counts = topic_data.groupby(\"Subject\").count()\n",
    "subjects_200 = subject_counts.where(subject_counts['Statement ID'] > 200).dropna().index\n",
    "topic_data = topic_data[topic_data['Subject'].isin(subjects_200)]\n"
   ]
  },
  {
   "cell_type": "code",
   "execution_count": 90,
   "metadata": {
    "collapsed": false
   },
   "outputs": [
    {
     "data": {
      "text/html": [
       "<div>\n",
       "<style scoped>\n",
       "    .dataframe tbody tr th:only-of-type {\n",
       "        vertical-align: middle;\n",
       "    }\n",
       "\n",
       "    .dataframe tbody tr th {\n",
       "        vertical-align: top;\n",
       "    }\n",
       "\n",
       "    .dataframe thead th {\n",
       "        text-align: right;\n",
       "    }\n",
       "</style>\n",
       "<table border=\"1\" class=\"dataframe\">\n",
       "  <thead>\n",
       "    <tr style=\"text-align: right;\">\n",
       "      <th></th>\n",
       "      <th>index</th>\n",
       "      <th>Statement ID</th>\n",
       "      <th>Label</th>\n",
       "      <th>Statement</th>\n",
       "      <th>Speaker</th>\n",
       "      <th>Speaker Job's title</th>\n",
       "      <th>State info</th>\n",
       "      <th>Party Affiliate</th>\n",
       "      <th>barely true counts</th>\n",
       "      <th>false counts</th>\n",
       "      <th>half true counts</th>\n",
       "      <th>mostly true counts</th>\n",
       "      <th>pants on fire counts</th>\n",
       "      <th>venue</th>\n",
       "      <th>Extracted Justification</th>\n",
       "      <th>Subject</th>\n",
       "    </tr>\n",
       "  </thead>\n",
       "  <tbody>\n",
       "    <tr>\n",
       "      <th>0</th>\n",
       "      <td>1279</td>\n",
       "      <td>6291.json</td>\n",
       "      <td>half-true</td>\n",
       "      <td>Unemployment among Oregon high school graduate...</td>\n",
       "      <td>cascade-policy-institute</td>\n",
       "      <td>NaN</td>\n",
       "      <td>NaN</td>\n",
       "      <td>organization</td>\n",
       "      <td>0.0</td>\n",
       "      <td>0.0</td>\n",
       "      <td>1.0</td>\n",
       "      <td>0.0</td>\n",
       "      <td>0.0</td>\n",
       "      <td>a website</td>\n",
       "      <td>In every data set we checked, Oregons youth un...</td>\n",
       "      <td>economy</td>\n",
       "    </tr>\n",
       "    <tr>\n",
       "      <th>1</th>\n",
       "      <td>4183</td>\n",
       "      <td>5385.json</td>\n",
       "      <td>true</td>\n",
       "      <td>Says Scott Walker enacted the biggest cuts to ...</td>\n",
       "      <td>kathleen-falk</td>\n",
       "      <td>NaN</td>\n",
       "      <td>NaN</td>\n",
       "      <td>democrat</td>\n",
       "      <td>1.0</td>\n",
       "      <td>3.0</td>\n",
       "      <td>3.0</td>\n",
       "      <td>1.0</td>\n",
       "      <td>0.0</td>\n",
       "      <td>a speech announcing her candidacy</td>\n",
       "      <td>The senator could also be right about illegal ...</td>\n",
       "      <td>education</td>\n",
       "    </tr>\n",
       "    <tr>\n",
       "      <th>3</th>\n",
       "      <td>5969</td>\n",
       "      <td>2892.json</td>\n",
       "      <td>true</td>\n",
       "      <td>Said Republicans made historic gains in state ...</td>\n",
       "      <td>national-review</td>\n",
       "      <td>NaN</td>\n",
       "      <td>NaN</td>\n",
       "      <td>none</td>\n",
       "      <td>0.0</td>\n",
       "      <td>0.0</td>\n",
       "      <td>0.0</td>\n",
       "      <td>0.0</td>\n",
       "      <td>0.0</td>\n",
       "      <td>National Review Online</td>\n",
       "      <td>The bulk of Obama's professional experience is...</td>\n",
       "      <td>elections</td>\n",
       "    </tr>\n",
       "    <tr>\n",
       "      <th>4</th>\n",
       "      <td>7146</td>\n",
       "      <td>13399.json</td>\n",
       "      <td>barely-true</td>\n",
       "      <td>Says that hes responsible for Austinincluding ...</td>\n",
       "      <td>jimmy-flannigan</td>\n",
       "      <td>Small business owner</td>\n",
       "      <td>Texas</td>\n",
       "      <td>none</td>\n",
       "      <td>1.0</td>\n",
       "      <td>0.0</td>\n",
       "      <td>0.0</td>\n",
       "      <td>0.0</td>\n",
       "      <td>0.0</td>\n",
       "      <td>an Austin Monitor interview that day plus foru...</td>\n",
       "      <td>Club for Growth says Trump promises \"to take c...</td>\n",
       "      <td>candidates-biography</td>\n",
       "    </tr>\n",
       "    <tr>\n",
       "      <th>5</th>\n",
       "      <td>8094</td>\n",
       "      <td>3556.json</td>\n",
       "      <td>mostly-true</td>\n",
       "      <td>Says an average of $4 billion is added to the ...</td>\n",
       "      <td>saxby-chambliss</td>\n",
       "      <td>U.S. Senator</td>\n",
       "      <td>Georgia</td>\n",
       "      <td>republican</td>\n",
       "      <td>1.0</td>\n",
       "      <td>1.0</td>\n",
       "      <td>3.0</td>\n",
       "      <td>4.0</td>\n",
       "      <td>1.0</td>\n",
       "      <td>an op-ed</td>\n",
       "      <td>And the Justice Department has a $15 million l...</td>\n",
       "      <td>federal-budget</td>\n",
       "    </tr>\n",
       "  </tbody>\n",
       "</table>\n",
       "</div>"
      ],
      "text/plain": [
       "   index Statement ID        Label  \\\n",
       "0   1279    6291.json    half-true   \n",
       "1   4183    5385.json         true   \n",
       "3   5969    2892.json         true   \n",
       "4   7146   13399.json  barely-true   \n",
       "5   8094    3556.json  mostly-true   \n",
       "\n",
       "                                           Statement  \\\n",
       "0  Unemployment among Oregon high school graduate...   \n",
       "1  Says Scott Walker enacted the biggest cuts to ...   \n",
       "3  Said Republicans made historic gains in state ...   \n",
       "4  Says that hes responsible for Austinincluding ...   \n",
       "5  Says an average of $4 billion is added to the ...   \n",
       "\n",
       "                    Speaker   Speaker Job's title State info Party Affiliate  \\\n",
       "0  cascade-policy-institute                   NaN        NaN    organization   \n",
       "1             kathleen-falk                   NaN        NaN        democrat   \n",
       "3           national-review                   NaN        NaN            none   \n",
       "4           jimmy-flannigan  Small business owner      Texas            none   \n",
       "5           saxby-chambliss          U.S. Senator    Georgia      republican   \n",
       "\n",
       "   barely true counts  false counts  half true counts  mostly true counts  \\\n",
       "0                 0.0           0.0               1.0                 0.0   \n",
       "1                 1.0           3.0               3.0                 1.0   \n",
       "3                 0.0           0.0               0.0                 0.0   \n",
       "4                 1.0           0.0               0.0                 0.0   \n",
       "5                 1.0           1.0               3.0                 4.0   \n",
       "\n",
       "   pants on fire counts                                              venue  \\\n",
       "0                   0.0                                          a website   \n",
       "1                   0.0                  a speech announcing her candidacy   \n",
       "3                   0.0                             National Review Online   \n",
       "4                   0.0  an Austin Monitor interview that day plus foru...   \n",
       "5                   1.0                                           an op-ed   \n",
       "\n",
       "                             Extracted Justification               Subject  \n",
       "0  In every data set we checked, Oregons youth un...               economy  \n",
       "1  The senator could also be right about illegal ...             education  \n",
       "3  The bulk of Obama's professional experience is...             elections  \n",
       "4  Club for Growth says Trump promises \"to take c...  candidates-biography  \n",
       "5  And the Justice Department has a $15 million l...        federal-budget  "
      ]
     },
     "execution_count": 90,
     "metadata": {},
     "output_type": "execute_result"
    }
   ],
   "source": [
    "topic_data.head(5)"
   ]
  },
  {
   "cell_type": "code",
   "execution_count": 62,
   "metadata": {
    "collapsed": false
   },
   "outputs": [
    {
     "data": {
      "text/plain": [
       "<matplotlib.axes._subplots.AxesSubplot at 0x1649b240>"
      ]
     },
     "execution_count": 62,
     "metadata": {},
     "output_type": "execute_result"
    },
    {
     "data": {
      "image/png": "[encoded data removed]",
      "text/plain": [
       "<Figure size 2000x500 with 1 Axes>"
      ]
     },
     "metadata": {},
     "output_type": "display_data"
    }
   ],
   "source": [
    "count_df = topic_data.groupby([\"Subject\",\"Label\"]).agg({\"Statement ID\" : \"count\"})\n",
    "count_df.unstack().plot(kind='bar', stacked=True, figsize=(20,5))\n"
   ]
  },
  {
   "cell_type": "markdown",
   "metadata": {},
   "source": [
    "Here, we find a distribution showing the relation between the truthfulness of a statement with its corresponding topic"
   ]
  },
  {
   "cell_type": "markdown",
   "metadata": {},
   "source": [
    "### Exploring the Speaker Feature"
   ]
  },
  {
   "cell_type": "markdown",
   "metadata": {},
   "source": [
    "The feature speaker may also contribute significantly in determining the truthfulness of a statement.\n",
    "\n",
    "First, we see how many unique speakers are there in the data.\n",
    "\n",
    "Next we wish to see which speakers are more likely to make a false claim and which speakers are most truthful."
   ]
  },
  {
   "cell_type": "code",
   "execution_count": 63,
   "metadata": {
    "collapsed": false
   },
   "outputs": [
    {
     "name": "stdout",
     "output_type": "stream",
     "text": [
      "Total 2911 unique speakers\n",
      "('Sample speakers:\\n', array(['cascade-policy-institute', 'kathleen-falk', 'glenn-beck',\n",
      "       'national-review', 'jimmy-flannigan', 'saxby-chambliss',\n",
      "       'josh-mandel', 'todd-tiahrt', 'ron-kind', 'barack-obama'],\n",
      "      dtype=object))\n"
     ]
    }
   ],
   "source": [
    "speakers_df = df_raw.copy()\n",
    "speakers = speakers_df['Speaker'].unique()\n",
    "print(\"Total %d unique speakers\" % len(speakers))\n",
    "print(\"Sample speakers:\\n\", speakers[:10])"
   ]
  },
  {
   "cell_type": "code",
   "execution_count": 64,
   "metadata": {
    "collapsed": false
   },
   "outputs": [
    {
     "name": "stdout",
     "output_type": "stream",
     "text": [
      "Total 65 unique speakers who appear more than 20 times within the dataset\n",
      "('Sample speakers:\\n', Speaker\n",
      "alan-grayson      30\n",
      "barack-obama     488\n",
      "ben-carson        25\n",
      "bernie-s          88\n",
      "bill-clinton      31\n",
      "bill-nelson       23\n",
      "blog-posting      59\n",
      "bob-mcdonnell     37\n",
      "chain-email      142\n",
      "charlie-crist     70\n",
      "Name: Statement, dtype: int64)\n"
     ]
    }
   ],
   "source": [
    "speakers_cts = speakers_df.groupby(\"Speaker\").Statement.count()\n",
    "speakers = speakers_cts[speakers_cts > 20]\n",
    "print(\"Total %d unique speakers who appear more than 20 times within the dataset\" % len(speakers))\n",
    "print(\"Sample speakers:\\n\", speakers[:10])"
   ]
  },
  {
   "cell_type": "code",
   "execution_count": 65,
   "metadata": {
    "collapsed": false
   },
   "outputs": [],
   "source": [
    "speakers_df = speakers_df[speakers_df['Speaker'].isin(speakers.keys())]\n"
   ]
  },
  {
   "cell_type": "code",
   "execution_count": 89,
   "metadata": {
    "collapsed": false
   },
   "outputs": [
    {
     "data": {
      "text/html": [
       "<div>\n",
       "<style scoped>\n",
       "    .dataframe tbody tr th:only-of-type {\n",
       "        vertical-align: middle;\n",
       "    }\n",
       "\n",
       "    .dataframe tbody tr th {\n",
       "        vertical-align: top;\n",
       "    }\n",
       "\n",
       "    .dataframe thead th {\n",
       "        text-align: right;\n",
       "    }\n",
       "</style>\n",
       "<table border=\"1\" class=\"dataframe\">\n",
       "  <thead>\n",
       "    <tr style=\"text-align: right;\">\n",
       "      <th></th>\n",
       "      <th>index</th>\n",
       "      <th>Statement ID</th>\n",
       "      <th>Label</th>\n",
       "      <th>Statement</th>\n",
       "      <th>Subject</th>\n",
       "      <th>Speaker</th>\n",
       "      <th>Speaker Job's title</th>\n",
       "      <th>State info</th>\n",
       "      <th>Party Affiliate</th>\n",
       "      <th>barely true counts</th>\n",
       "      <th>false counts</th>\n",
       "      <th>half true counts</th>\n",
       "      <th>mostly true counts</th>\n",
       "      <th>pants on fire counts</th>\n",
       "      <th>venue</th>\n",
       "      <th>Extracted Justification</th>\n",
       "    </tr>\n",
       "  </thead>\n",
       "  <tbody>\n",
       "    <tr>\n",
       "      <th>2</th>\n",
       "      <td>5163</td>\n",
       "      <td>10876.json</td>\n",
       "      <td>barely-true</td>\n",
       "      <td>Says Hillary Clinton makes more per hour at a ...</td>\n",
       "      <td>income,wealth,workers</td>\n",
       "      <td>glenn-beck</td>\n",
       "      <td>NaN</td>\n",
       "      <td>NaN</td>\n",
       "      <td>none</td>\n",
       "      <td>5.0</td>\n",
       "      <td>7.0</td>\n",
       "      <td>7.0</td>\n",
       "      <td>2.0</td>\n",
       "      <td>6.0</td>\n",
       "      <td>a segment on his radio show</td>\n",
       "      <td>Obama said the United States has \"recovered fa...</td>\n",
       "    </tr>\n",
       "    <tr>\n",
       "      <th>6</th>\n",
       "      <td>9401</td>\n",
       "      <td>7048.json</td>\n",
       "      <td>false</td>\n",
       "      <td>Says that Sherrod Brown is an Obama rubber sta...</td>\n",
       "      <td>cap-and-trade,climate-change,environment,votin...</td>\n",
       "      <td>josh-mandel</td>\n",
       "      <td>Ohio treasurer</td>\n",
       "      <td>Ohio</td>\n",
       "      <td>republican</td>\n",
       "      <td>4.0</td>\n",
       "      <td>5.0</td>\n",
       "      <td>4.0</td>\n",
       "      <td>5.0</td>\n",
       "      <td>6.0</td>\n",
       "      <td>a radio ad</td>\n",
       "      <td>Graham said that \"since 1990, in inflation-adj...</td>\n",
       "    </tr>\n",
       "    <tr>\n",
       "      <th>9</th>\n",
       "      <td>5782</td>\n",
       "      <td>13451.json</td>\n",
       "      <td>half-true</td>\n",
       "      <td>The list of voters that North Carolina Republi...</td>\n",
       "      <td>elections</td>\n",
       "      <td>barack-obama</td>\n",
       "      <td>President</td>\n",
       "      <td>Illinois</td>\n",
       "      <td>democrat</td>\n",
       "      <td>70.0</td>\n",
       "      <td>71.0</td>\n",
       "      <td>160.0</td>\n",
       "      <td>163.0</td>\n",
       "      <td>9.0</td>\n",
       "      <td>a rally in North Carolina</td>\n",
       "      <td>And almost all of the imagery highlights the s...</td>\n",
       "    </tr>\n",
       "    <tr>\n",
       "      <th>10</th>\n",
       "      <td>8669</td>\n",
       "      <td>6492.json</td>\n",
       "      <td>true</td>\n",
       "      <td>Says under Wisconsin law, he cannot remove his...</td>\n",
       "      <td>elections</td>\n",
       "      <td>paul-ryan</td>\n",
       "      <td>U.S. Representative</td>\n",
       "      <td>Wisconsin</td>\n",
       "      <td>republican</td>\n",
       "      <td>19.0</td>\n",
       "      <td>6.0</td>\n",
       "      <td>16.0</td>\n",
       "      <td>14.0</td>\n",
       "      <td>2.0</td>\n",
       "      <td>a television interview</td>\n",
       "      <td>Webb says the U. S.  has 5 percent of the worl...</td>\n",
       "    </tr>\n",
       "    <tr>\n",
       "      <th>12</th>\n",
       "      <td>88</td>\n",
       "      <td>767.json</td>\n",
       "      <td>barely-true</td>\n",
       "      <td>Sen. McCain's tax plan provides \"virtually not...</td>\n",
       "      <td>taxes</td>\n",
       "      <td>joe-biden</td>\n",
       "      <td>U.S. senator</td>\n",
       "      <td>Delaware</td>\n",
       "      <td>democrat</td>\n",
       "      <td>11.0</td>\n",
       "      <td>10.0</td>\n",
       "      <td>21.0</td>\n",
       "      <td>16.0</td>\n",
       "      <td>4.0</td>\n",
       "      <td>vice presidential debate in St. Louis</td>\n",
       "      <td>Its more generous exemption for dependents and...</td>\n",
       "    </tr>\n",
       "  </tbody>\n",
       "</table>\n",
       "</div>"
      ],
      "text/plain": [
       "    index Statement ID        Label  \\\n",
       "2    5163   10876.json  barely-true   \n",
       "6    9401    7048.json        false   \n",
       "9    5782   13451.json    half-true   \n",
       "10   8669    6492.json         true   \n",
       "12     88     767.json  barely-true   \n",
       "\n",
       "                                            Statement  \\\n",
       "2   Says Hillary Clinton makes more per hour at a ...   \n",
       "6   Says that Sherrod Brown is an Obama rubber sta...   \n",
       "9   The list of voters that North Carolina Republi...   \n",
       "10  Says under Wisconsin law, he cannot remove his...   \n",
       "12  Sen. McCain's tax plan provides \"virtually not...   \n",
       "\n",
       "                                              Subject       Speaker  \\\n",
       "2                               income,wealth,workers    glenn-beck   \n",
       "6   cap-and-trade,climate-change,environment,votin...   josh-mandel   \n",
       "9                                           elections  barack-obama   \n",
       "10                                          elections     paul-ryan   \n",
       "12                                              taxes     joe-biden   \n",
       "\n",
       "    Speaker Job's title State info Party Affiliate  barely true counts  \\\n",
       "2                   NaN        NaN            none                 5.0   \n",
       "6        Ohio treasurer       Ohio      republican                 4.0   \n",
       "9             President   Illinois        democrat                70.0   \n",
       "10  U.S. Representative  Wisconsin      republican                19.0   \n",
       "12         U.S. senator   Delaware        democrat                11.0   \n",
       "\n",
       "    false counts  half true counts  mostly true counts  pants on fire counts  \\\n",
       "2            7.0               7.0                 2.0                   6.0   \n",
       "6            5.0               4.0                 5.0                   6.0   \n",
       "9           71.0             160.0               163.0                   9.0   \n",
       "10           6.0              16.0                14.0                   2.0   \n",
       "12          10.0              21.0                16.0                   4.0   \n",
       "\n",
       "                                    venue  \\\n",
       "2             a segment on his radio show   \n",
       "6                              a radio ad   \n",
       "9               a rally in North Carolina   \n",
       "10                 a television interview   \n",
       "12  vice presidential debate in St. Louis   \n",
       "\n",
       "                              Extracted Justification  \n",
       "2   Obama said the United States has \"recovered fa...  \n",
       "6   Graham said that \"since 1990, in inflation-adj...  \n",
       "9   And almost all of the imagery highlights the s...  \n",
       "10  Webb says the U. S.  has 5 percent of the worl...  \n",
       "12  Its more generous exemption for dependents and...  "
      ]
     },
     "execution_count": 89,
     "metadata": {},
     "output_type": "execute_result"
    }
   ],
   "source": [
    "speakers_df.head(5)"
   ]
  },
  {
   "cell_type": "code",
   "execution_count": 66,
   "metadata": {
    "collapsed": false
   },
   "outputs": [
    {
     "data": {
      "text/plain": [
       "<matplotlib.axes._subplots.AxesSubplot at 0x1454fa90>"
      ]
     },
     "execution_count": 66,
     "metadata": {},
     "output_type": "execute_result"
    },
    {
     "data": {
      "image/png": "[encoded data removed]",
      "text/plain": [
       "<Figure size 2000x500 with 1 Axes>"
      ]
     },
     "metadata": {},
     "output_type": "display_data"
    }
   ],
   "source": [
    "count_speakers = speakers_df.groupby([\"Speaker\",\"Label\"]).agg({\"Statement ID\" : \"count\"})\n",
    "count_speakers.unstack().plot(kind='bar', stacked=True, figsize=(20,5))"
   ]
  },
  {
   "cell_type": "markdown",
   "metadata": {},
   "source": [
    "For example, an interesting feature from the distribution is that **Donal Trump** is always making *false claims* most of the time. [ \"true\" label is very less]"
   ]
  },
  {
   "cell_type": "markdown",
   "metadata": {},
   "source": [
    "### Exploring the Job Feature"
   ]
  },
  {
   "cell_type": "markdown",
   "metadata": {},
   "source": [
    "The feature **Job** may also contribute significantly in determining the truthfulness of a statement.\n",
    "\n",
    "Some speakers belonging to particular job may make more false claims while others may make more truthful claims"
   ]
  },
  {
   "cell_type": "code",
   "execution_count": 67,
   "metadata": {
    "collapsed": false
   },
   "outputs": [
    {
     "name": "stdout",
     "output_type": "stream",
     "text": [
      "Total 1185 unique jobs\n",
      "('Sample jobs:\\n', array(['State representative', 'State delegate', 'President', nan,\n",
      "       'Wisconsin Assembly speaker', 'U.S. Senator', 'Former governor',\n",
      "       'Columnist', 'U.S. House member -- 4th District',\n",
      "       'Treasury secretary '], dtype=object))\n"
     ]
    }
   ],
   "source": [
    "jobs_df = data.copy()\n",
    "jobs = jobs_df['Speaker Job\\'s title'].unique()\n",
    "print(\"Total %d unique jobs\" % len(jobs))\n",
    "print(\"Sample jobs:\\n\", jobs[:10])"
   ]
  },
  {
   "cell_type": "code",
   "execution_count": 87,
   "metadata": {
    "collapsed": false
   },
   "outputs": [
    {
     "name": "stdout",
     "output_type": "stream",
     "text": [
      "There are 52 unique jobs who appear more than 20 times within the dataset\n",
      "('Some sample jobs include:\\n', Speaker Job's title\n",
      "Attorney                                   81\n",
      "Attorney General                           33\n",
      "Businessman                                34\n",
      "Candidate for U.S. Senate and physician    39\n",
      "Co-host on CNN's \"Crossfire\"               73\n",
      "Name: Statement, dtype: int64)\n"
     ]
    }
   ],
   "source": [
    "job_cts = jobs_df.groupby(\"Speaker Job\\'s title\").Statement.count()\n",
    "jobs = job_cts[job_cts > 20]\n",
    "print(\"There are %d unique jobs who appear more than 20 times within the dataset\" % len(jobs))\n",
    "print(\"Some sample jobs include:\\n\", jobs[:5])\n"
   ]
  },
  {
   "cell_type": "code",
   "execution_count": 88,
   "metadata": {
    "collapsed": false
   },
   "outputs": [
    {
     "data": {
      "text/plain": [
       "Speaker Job's title\n",
       "Attorney                                     81\n",
       "Attorney General                             33\n",
       "Businessman                                  34\n",
       "Candidate for U.S. Senate and physician      39\n",
       "Co-host on CNN's \"Crossfire\"                 73\n",
       "Columnist                                    25\n",
       "Congressman                                  80\n",
       "Congresswoman                                50\n",
       "Former governor                             176\n",
       "Governor                                    391\n",
       "Governor of New Jersey                       78\n",
       "Governor of Ohio as of Jan. 10, 2011         43\n",
       "House Majority Leader                        32\n",
       "House Minority Leader                        23\n",
       "Lawyer                                       28\n",
       "Lieutenant governor                          33\n",
       "Madison school board member                  29\n",
       "Mayor of Milwaukee                           23\n",
       "Milwaukee County Executive                  149\n",
       "Ohio treasurer                               24\n",
       "President                                   492\n",
       "President-Elect                             273\n",
       "Presidential candidate                      254\n",
       "Radio host                                   36\n",
       "Secretary of State                           25\n",
       "Senate Democratic Leader                     23\n",
       "Senate minority leader                       25\n",
       "Senator                                     147\n",
       "Social media posting                         78\n",
       "Speaker of the House of Representatives      50\n",
       "State Assemblyman                            25\n",
       "State Representative                         72\n",
       "State Senator                               108\n",
       "State representative                         66\n",
       "State senator                                48\n",
       "U.S. Congressman                             63\n",
       "U.S. House member                            23\n",
       "U.S. House of Representatives               102\n",
       "U.S. Representative                         172\n",
       "U.S. Representative, Florida District 23     38\n",
       "U.S. Senator                                479\n",
       "U.S. representative                         103\n",
       "U.S. representative                          21\n",
       "U.S. senator                                263\n",
       "U.S. senator from Ohio                       34\n",
       "author                                       38\n",
       "consultant                                   26\n",
       "former president                             31\n",
       "governor                                     39\n",
       "mayor of Providence                          26\n",
       "state representative                         44\n",
       "state senator                                42\n",
       "Name: Statement, dtype: int64"
      ]
     },
     "execution_count": 88,
     "metadata": {},
     "output_type": "execute_result"
    }
   ],
   "source": [
    "jobs"
   ]
  },
  {
   "cell_type": "code",
   "execution_count": 84,
   "metadata": {
    "collapsed": false
   },
   "outputs": [
    {
     "data": {
      "text/plain": [
       "<matplotlib.axes._subplots.AxesSubplot at 0x1065a6d8>"
      ]
     },
     "execution_count": 84,
     "metadata": {},
     "output_type": "execute_result"
    },
    {
     "data": {
      "image/png": "[encoded data removed]",
      "text/plain": [
       "<Figure size 2000x500 with 1 Axes>"
      ]
     },
     "metadata": {},
     "output_type": "display_data"
    }
   ],
   "source": [
    "jobs_df = jobs_df[jobs_df['Speaker Job\\'s title'].isin(jobs.keys())]\n",
    "\n",
    "jobs_count = jobs_df.groupby([\"Speaker Job\\'s title\",\"Label\"]).agg({\"Statement ID\" : \"count\"})\n",
    "jobs_count.unstack().plot(kind='bar', stacked=True, figsize=(20,5))"
   ]
  },
  {
   "cell_type": "markdown",
   "metadata": {},
   "source": [
    "Interestingly **President-Elect** or president to be elected has the higher number of cases where he/she makes a false claim."
   ]
  },
  {
   "cell_type": "markdown",
   "metadata": {},
   "source": [
    "### Exploring the Party Affiliation Feature"
   ]
  },
  {
   "cell_type": "markdown",
   "metadata": {},
   "source": [
    "Members of a particular party may be more prone to making false claims than others.\n",
    "Hence an important step is to study such a relation between party affiliation and the truthfulness of their claims."
   ]
  },
  {
   "cell_type": "code",
   "execution_count": 70,
   "metadata": {
    "collapsed": false
   },
   "outputs": [
    {
     "name": "stdout",
     "output_type": "stream",
     "text": [
      "Total 7 unique parties\n",
      "('Sample parties:\\n', array(['republican', 'democrat', 'independent', 'columnist', 'none',\n",
      "       'libertarian', 'constitution-party'], dtype=object))\n"
     ]
    }
   ],
   "source": [
    "parties_df = df_raw.copy()\n",
    "parties = jobs_df['Party Affiliate'].unique()\n",
    "print(\"Total %d unique parties\" % len(parties))\n",
    "print(\"Sample parties:\\n\", parties)"
   ]
  },
  {
   "cell_type": "code",
   "execution_count": 71,
   "metadata": {
    "collapsed": false
   },
   "outputs": [
    {
     "name": "stdout",
     "output_type": "stream",
     "text": [
      "Total 10 unique affiliations who appear more than 30 times\n",
      "('Sample affiliations:\\n', Party Affiliate\n",
      "activist         39\n",
      "columnist        35\n",
      "democrat       3336\n",
      "independent     147\n",
      "journalist       38\n",
      "Name: Statement, dtype: int64)\n"
     ]
    }
   ],
   "source": [
    "parties_cts = parties_df.groupby(\"Party Affiliate\").Statement.count()\n",
    "parties = parties_cts[parties_cts > 30]\n",
    "print(\"Total %d unique affiliations who appear more than 30 times\" % len(parties))\n",
    "print(\"Sample affiliations:\\n\", parties[:5])"
   ]
  },
  {
   "cell_type": "code",
   "execution_count": 72,
   "metadata": {
    "collapsed": true
   },
   "outputs": [],
   "source": [
    "parties_df = parties_df[parties_df['Party Affiliate'].isin(parties.keys())]"
   ]
  },
  {
   "cell_type": "code",
   "execution_count": 91,
   "metadata": {
    "collapsed": false
   },
   "outputs": [
    {
     "data": {
      "text/html": [
       "<div>\n",
       "<style scoped>\n",
       "    .dataframe tbody tr th:only-of-type {\n",
       "        vertical-align: middle;\n",
       "    }\n",
       "\n",
       "    .dataframe tbody tr th {\n",
       "        vertical-align: top;\n",
       "    }\n",
       "\n",
       "    .dataframe thead th {\n",
       "        text-align: right;\n",
       "    }\n",
       "</style>\n",
       "<table border=\"1\" class=\"dataframe\">\n",
       "  <thead>\n",
       "    <tr style=\"text-align: right;\">\n",
       "      <th></th>\n",
       "      <th>index</th>\n",
       "      <th>Statement ID</th>\n",
       "      <th>Label</th>\n",
       "      <th>Statement</th>\n",
       "      <th>Subject</th>\n",
       "      <th>Speaker</th>\n",
       "      <th>Speaker Job's title</th>\n",
       "      <th>State info</th>\n",
       "      <th>Party Affiliate</th>\n",
       "      <th>barely true counts</th>\n",
       "      <th>false counts</th>\n",
       "      <th>half true counts</th>\n",
       "      <th>mostly true counts</th>\n",
       "      <th>pants on fire counts</th>\n",
       "      <th>venue</th>\n",
       "      <th>Extracted Justification</th>\n",
       "    </tr>\n",
       "  </thead>\n",
       "  <tbody>\n",
       "    <tr>\n",
       "      <th>0</th>\n",
       "      <td>1279</td>\n",
       "      <td>6291.json</td>\n",
       "      <td>half-true</td>\n",
       "      <td>Unemployment among Oregon high school graduate...</td>\n",
       "      <td>economy,jobs,workers</td>\n",
       "      <td>cascade-policy-institute</td>\n",
       "      <td>NaN</td>\n",
       "      <td>NaN</td>\n",
       "      <td>organization</td>\n",
       "      <td>0.0</td>\n",
       "      <td>0.0</td>\n",
       "      <td>1.0</td>\n",
       "      <td>0.0</td>\n",
       "      <td>0.0</td>\n",
       "      <td>a website</td>\n",
       "      <td>In every data set we checked, Oregons youth un...</td>\n",
       "    </tr>\n",
       "    <tr>\n",
       "      <th>1</th>\n",
       "      <td>4183</td>\n",
       "      <td>5385.json</td>\n",
       "      <td>true</td>\n",
       "      <td>Says Scott Walker enacted the biggest cuts to ...</td>\n",
       "      <td>education,state-budget,state-finances</td>\n",
       "      <td>kathleen-falk</td>\n",
       "      <td>NaN</td>\n",
       "      <td>NaN</td>\n",
       "      <td>democrat</td>\n",
       "      <td>1.0</td>\n",
       "      <td>3.0</td>\n",
       "      <td>3.0</td>\n",
       "      <td>1.0</td>\n",
       "      <td>0.0</td>\n",
       "      <td>a speech announcing her candidacy</td>\n",
       "      <td>The senator could also be right about illegal ...</td>\n",
       "    </tr>\n",
       "    <tr>\n",
       "      <th>2</th>\n",
       "      <td>5163</td>\n",
       "      <td>10876.json</td>\n",
       "      <td>barely-true</td>\n",
       "      <td>Says Hillary Clinton makes more per hour at a ...</td>\n",
       "      <td>income,wealth,workers</td>\n",
       "      <td>glenn-beck</td>\n",
       "      <td>NaN</td>\n",
       "      <td>NaN</td>\n",
       "      <td>none</td>\n",
       "      <td>5.0</td>\n",
       "      <td>7.0</td>\n",
       "      <td>7.0</td>\n",
       "      <td>2.0</td>\n",
       "      <td>6.0</td>\n",
       "      <td>a segment on his radio show</td>\n",
       "      <td>Obama said the United States has \"recovered fa...</td>\n",
       "    </tr>\n",
       "    <tr>\n",
       "      <th>3</th>\n",
       "      <td>5969</td>\n",
       "      <td>2892.json</td>\n",
       "      <td>true</td>\n",
       "      <td>Said Republicans made historic gains in state ...</td>\n",
       "      <td>elections</td>\n",
       "      <td>national-review</td>\n",
       "      <td>NaN</td>\n",
       "      <td>NaN</td>\n",
       "      <td>none</td>\n",
       "      <td>0.0</td>\n",
       "      <td>0.0</td>\n",
       "      <td>0.0</td>\n",
       "      <td>0.0</td>\n",
       "      <td>0.0</td>\n",
       "      <td>National Review Online</td>\n",
       "      <td>The bulk of Obama's professional experience is...</td>\n",
       "    </tr>\n",
       "    <tr>\n",
       "      <th>4</th>\n",
       "      <td>7146</td>\n",
       "      <td>13399.json</td>\n",
       "      <td>barely-true</td>\n",
       "      <td>Says that hes responsible for Austinincluding ...</td>\n",
       "      <td>candidates-biography,city-budget,city-governme...</td>\n",
       "      <td>jimmy-flannigan</td>\n",
       "      <td>Small business owner</td>\n",
       "      <td>Texas</td>\n",
       "      <td>none</td>\n",
       "      <td>1.0</td>\n",
       "      <td>0.0</td>\n",
       "      <td>0.0</td>\n",
       "      <td>0.0</td>\n",
       "      <td>0.0</td>\n",
       "      <td>an Austin Monitor interview that day plus foru...</td>\n",
       "      <td>Club for Growth says Trump promises \"to take c...</td>\n",
       "    </tr>\n",
       "  </tbody>\n",
       "</table>\n",
       "</div>"
      ],
      "text/plain": [
       "   index Statement ID        Label  \\\n",
       "0   1279    6291.json    half-true   \n",
       "1   4183    5385.json         true   \n",
       "2   5163   10876.json  barely-true   \n",
       "3   5969    2892.json         true   \n",
       "4   7146   13399.json  barely-true   \n",
       "\n",
       "                                           Statement  \\\n",
       "0  Unemployment among Oregon high school graduate...   \n",
       "1  Says Scott Walker enacted the biggest cuts to ...   \n",
       "2  Says Hillary Clinton makes more per hour at a ...   \n",
       "3  Said Republicans made historic gains in state ...   \n",
       "4  Says that hes responsible for Austinincluding ...   \n",
       "\n",
       "                                             Subject  \\\n",
       "0                               economy,jobs,workers   \n",
       "1              education,state-budget,state-finances   \n",
       "2                              income,wealth,workers   \n",
       "3                                          elections   \n",
       "4  candidates-biography,city-budget,city-governme...   \n",
       "\n",
       "                    Speaker   Speaker Job's title State info Party Affiliate  \\\n",
       "0  cascade-policy-institute                   NaN        NaN    organization   \n",
       "1             kathleen-falk                   NaN        NaN        democrat   \n",
       "2                glenn-beck                   NaN        NaN            none   \n",
       "3           national-review                   NaN        NaN            none   \n",
       "4           jimmy-flannigan  Small business owner      Texas            none   \n",
       "\n",
       "   barely true counts  false counts  half true counts  mostly true counts  \\\n",
       "0                 0.0           0.0               1.0                 0.0   \n",
       "1                 1.0           3.0               3.0                 1.0   \n",
       "2                 5.0           7.0               7.0                 2.0   \n",
       "3                 0.0           0.0               0.0                 0.0   \n",
       "4                 1.0           0.0               0.0                 0.0   \n",
       "\n",
       "   pants on fire counts                                              venue  \\\n",
       "0                   0.0                                          a website   \n",
       "1                   0.0                  a speech announcing her candidacy   \n",
       "2                   6.0                        a segment on his radio show   \n",
       "3                   0.0                             National Review Online   \n",
       "4                   0.0  an Austin Monitor interview that day plus foru...   \n",
       "\n",
       "                             Extracted Justification  \n",
       "0  In every data set we checked, Oregons youth un...  \n",
       "1  The senator could also be right about illegal ...  \n",
       "2  Obama said the United States has \"recovered fa...  \n",
       "3  The bulk of Obama's professional experience is...  \n",
       "4  Club for Growth says Trump promises \"to take c...  "
      ]
     },
     "execution_count": 91,
     "metadata": {},
     "output_type": "execute_result"
    }
   ],
   "source": [
    "parties_df.head()"
   ]
  },
  {
   "cell_type": "code",
   "execution_count": 85,
   "metadata": {
    "collapsed": false
   },
   "outputs": [
    {
     "data": {
      "text/plain": [
       "<matplotlib.axes._subplots.AxesSubplot at 0x111ec208>"
      ]
     },
     "execution_count": 85,
     "metadata": {},
     "output_type": "execute_result"
    },
    {
     "data": {
      "image/png": "[encoded data removed]",
      "text/plain": [
       "<Figure size 2000x500 with 1 Axes>"
      ]
     },
     "metadata": {},
     "output_type": "display_data"
    }
   ],
   "source": [
    "parties_count = parties_df.groupby([\"Party Affiliate\",\"Label\"]).agg({\"Statement ID\" : \"count\"})\n",
    "parties_count.unstack().plot(kind='bar', stacked=True, figsize=(20,5))"
   ]
  },
  {
   "cell_type": "markdown",
   "metadata": {
    "collapsed": true
   },
   "source": [
    "## Sentiment Analysis"
   ]
  },
  {
   "cell_type": "markdown",
   "metadata": {},
   "source": [
    "An important analysis in this paper states that by considering the  sentiment of the statement in question. The paper considers Sentistrength\n",
    "library for their purpose.\n",
    "\n",
    "By ranking the sentiment of the statement from a range of 0 to 5 indicating negative to neutral and to positive, it may give some interesting\n",
    "insights as to whether a statement is truthful or not"
   ]
  },
  {
   "cell_type": "code",
   "execution_count": 74,
   "metadata": {
    "collapsed": false
   },
   "outputs": [],
   "source": [
    "import nltk"
   ]
  },
  {
   "cell_type": "code",
   "execution_count": 75,
   "metadata": {
    "collapsed": false
   },
   "outputs": [],
   "source": [
    "import vaderSentiment\n",
    "from vaderSentiment.vaderSentiment import SentimentIntensityAnalyzer\n",
    "\n"
   ]
  },
  {
   "cell_type": "code",
   "execution_count": 76,
   "metadata": {
    "collapsed": false
   },
   "outputs": [],
   "source": [
    "analyzer = SentimentIntensityAnalyzer()\n"
   ]
  },
  {
   "cell_type": "code",
   "execution_count": 77,
   "metadata": {
    "collapsed": false
   },
   "outputs": [],
   "source": [
    "sentiments = pd.DataFrame([analyzer.polarity_scores(row) for row in df_raw.Statement]).join(df_raw)"
   ]
  },
  {
   "cell_type": "code",
   "execution_count": 78,
   "metadata": {
    "collapsed": false
   },
   "outputs": [
    {
     "data": {
      "text/html": [
       "<div>\n",
       "<style scoped>\n",
       "    .dataframe tbody tr th:only-of-type {\n",
       "        vertical-align: middle;\n",
       "    }\n",
       "\n",
       "    .dataframe tbody tr th {\n",
       "        vertical-align: top;\n",
       "    }\n",
       "\n",
       "    .dataframe thead th {\n",
       "        text-align: right;\n",
       "    }\n",
       "</style>\n",
       "<table border=\"1\" class=\"dataframe\">\n",
       "  <thead>\n",
       "    <tr style=\"text-align: right;\">\n",
       "      <th></th>\n",
       "      <th>compound</th>\n",
       "      <th>neg</th>\n",
       "      <th>neu</th>\n",
       "      <th>pos</th>\n",
       "      <th>index</th>\n",
       "      <th>Statement ID</th>\n",
       "      <th>Label</th>\n",
       "      <th>Statement</th>\n",
       "      <th>Subject</th>\n",
       "      <th>Speaker</th>\n",
       "      <th>Speaker Job's title</th>\n",
       "      <th>State info</th>\n",
       "      <th>Party Affiliate</th>\n",
       "      <th>barely true counts</th>\n",
       "      <th>false counts</th>\n",
       "      <th>half true counts</th>\n",
       "      <th>mostly true counts</th>\n",
       "      <th>pants on fire counts</th>\n",
       "      <th>venue</th>\n",
       "      <th>Extracted Justification</th>\n",
       "    </tr>\n",
       "  </thead>\n",
       "  <tbody>\n",
       "    <tr>\n",
       "      <th>0</th>\n",
       "      <td>0.0772</td>\n",
       "      <td>0.093</td>\n",
       "      <td>0.772</td>\n",
       "      <td>0.135</td>\n",
       "      <td>1279</td>\n",
       "      <td>6291.json</td>\n",
       "      <td>half-true</td>\n",
       "      <td>Unemployment among Oregon high school graduate...</td>\n",
       "      <td>economy,jobs,workers</td>\n",
       "      <td>cascade-policy-institute</td>\n",
       "      <td>NaN</td>\n",
       "      <td>NaN</td>\n",
       "      <td>organization</td>\n",
       "      <td>0.0</td>\n",
       "      <td>0.0</td>\n",
       "      <td>1.0</td>\n",
       "      <td>0.0</td>\n",
       "      <td>0.0</td>\n",
       "      <td>a website</td>\n",
       "      <td>In every data set we checked, Oregons youth un...</td>\n",
       "    </tr>\n",
       "    <tr>\n",
       "      <th>1</th>\n",
       "      <td>-0.2960</td>\n",
       "      <td>0.155</td>\n",
       "      <td>0.845</td>\n",
       "      <td>0.000</td>\n",
       "      <td>4183</td>\n",
       "      <td>5385.json</td>\n",
       "      <td>true</td>\n",
       "      <td>Says Scott Walker enacted the biggest cuts to ...</td>\n",
       "      <td>education,state-budget,state-finances</td>\n",
       "      <td>kathleen-falk</td>\n",
       "      <td>NaN</td>\n",
       "      <td>NaN</td>\n",
       "      <td>democrat</td>\n",
       "      <td>1.0</td>\n",
       "      <td>3.0</td>\n",
       "      <td>3.0</td>\n",
       "      <td>1.0</td>\n",
       "      <td>0.0</td>\n",
       "      <td>a speech announcing her candidacy</td>\n",
       "      <td>The senator could also be right about illegal ...</td>\n",
       "    </tr>\n",
       "    <tr>\n",
       "      <th>2</th>\n",
       "      <td>0.0000</td>\n",
       "      <td>0.000</td>\n",
       "      <td>1.000</td>\n",
       "      <td>0.000</td>\n",
       "      <td>5163</td>\n",
       "      <td>10876.json</td>\n",
       "      <td>barely-true</td>\n",
       "      <td>Says Hillary Clinton makes more per hour at a ...</td>\n",
       "      <td>income,wealth,workers</td>\n",
       "      <td>glenn-beck</td>\n",
       "      <td>NaN</td>\n",
       "      <td>NaN</td>\n",
       "      <td>none</td>\n",
       "      <td>5.0</td>\n",
       "      <td>7.0</td>\n",
       "      <td>7.0</td>\n",
       "      <td>2.0</td>\n",
       "      <td>6.0</td>\n",
       "      <td>a segment on his radio show</td>\n",
       "      <td>Obama said the United States has \"recovered fa...</td>\n",
       "    </tr>\n",
       "    <tr>\n",
       "      <th>3</th>\n",
       "      <td>0.3400</td>\n",
       "      <td>0.000</td>\n",
       "      <td>0.821</td>\n",
       "      <td>0.179</td>\n",
       "      <td>5969</td>\n",
       "      <td>2892.json</td>\n",
       "      <td>true</td>\n",
       "      <td>Said Republicans made historic gains in state ...</td>\n",
       "      <td>elections</td>\n",
       "      <td>national-review</td>\n",
       "      <td>NaN</td>\n",
       "      <td>NaN</td>\n",
       "      <td>none</td>\n",
       "      <td>0.0</td>\n",
       "      <td>0.0</td>\n",
       "      <td>0.0</td>\n",
       "      <td>0.0</td>\n",
       "      <td>0.0</td>\n",
       "      <td>National Review Online</td>\n",
       "      <td>The bulk of Obama's professional experience is...</td>\n",
       "    </tr>\n",
       "    <tr>\n",
       "      <th>4</th>\n",
       "      <td>0.3182</td>\n",
       "      <td>0.000</td>\n",
       "      <td>0.867</td>\n",
       "      <td>0.133</td>\n",
       "      <td>7146</td>\n",
       "      <td>13399.json</td>\n",
       "      <td>barely-true</td>\n",
       "      <td>Says that hes responsible for Austinincluding ...</td>\n",
       "      <td>candidates-biography,city-budget,city-governme...</td>\n",
       "      <td>jimmy-flannigan</td>\n",
       "      <td>Small business owner</td>\n",
       "      <td>Texas</td>\n",
       "      <td>none</td>\n",
       "      <td>1.0</td>\n",
       "      <td>0.0</td>\n",
       "      <td>0.0</td>\n",
       "      <td>0.0</td>\n",
       "      <td>0.0</td>\n",
       "      <td>an Austin Monitor interview that day plus foru...</td>\n",
       "      <td>Club for Growth says Trump promises \"to take c...</td>\n",
       "    </tr>\n",
       "  </tbody>\n",
       "</table>\n",
       "</div>"
      ],
      "text/plain": [
       "   compound    neg    neu    pos  index Statement ID        Label  \\\n",
       "0    0.0772  0.093  0.772  0.135   1279    6291.json    half-true   \n",
       "1   -0.2960  0.155  0.845  0.000   4183    5385.json         true   \n",
       "2    0.0000  0.000  1.000  0.000   5163   10876.json  barely-true   \n",
       "3    0.3400  0.000  0.821  0.179   5969    2892.json         true   \n",
       "4    0.3182  0.000  0.867  0.133   7146   13399.json  barely-true   \n",
       "\n",
       "                                           Statement  \\\n",
       "0  Unemployment among Oregon high school graduate...   \n",
       "1  Says Scott Walker enacted the biggest cuts to ...   \n",
       "2  Says Hillary Clinton makes more per hour at a ...   \n",
       "3  Said Republicans made historic gains in state ...   \n",
       "4  Says that hes responsible for Austinincluding ...   \n",
       "\n",
       "                                             Subject  \\\n",
       "0                               economy,jobs,workers   \n",
       "1              education,state-budget,state-finances   \n",
       "2                              income,wealth,workers   \n",
       "3                                          elections   \n",
       "4  candidates-biography,city-budget,city-governme...   \n",
       "\n",
       "                    Speaker   Speaker Job's title State info Party Affiliate  \\\n",
       "0  cascade-policy-institute                   NaN        NaN    organization   \n",
       "1             kathleen-falk                   NaN        NaN        democrat   \n",
       "2                glenn-beck                   NaN        NaN            none   \n",
       "3           national-review                   NaN        NaN            none   \n",
       "4           jimmy-flannigan  Small business owner      Texas            none   \n",
       "\n",
       "   barely true counts  false counts  half true counts  mostly true counts  \\\n",
       "0                 0.0           0.0               1.0                 0.0   \n",
       "1                 1.0           3.0               3.0                 1.0   \n",
       "2                 5.0           7.0               7.0                 2.0   \n",
       "3                 0.0           0.0               0.0                 0.0   \n",
       "4                 1.0           0.0               0.0                 0.0   \n",
       "\n",
       "   pants on fire counts                                              venue  \\\n",
       "0                   0.0                                          a website   \n",
       "1                   0.0                  a speech announcing her candidacy   \n",
       "2                   6.0                        a segment on his radio show   \n",
       "3                   0.0                             National Review Online   \n",
       "4                   0.0  an Austin Monitor interview that day plus foru...   \n",
       "\n",
       "                             Extracted Justification  \n",
       "0  In every data set we checked, Oregons youth un...  \n",
       "1  The senator could also be right about illegal ...  \n",
       "2  Obama said the United States has \"recovered fa...  \n",
       "3  The bulk of Obama's professional experience is...  \n",
       "4  Club for Growth says Trump promises \"to take c...  "
      ]
     },
     "execution_count": 78,
     "metadata": {},
     "output_type": "execute_result"
    }
   ],
   "source": [
    "sentiments.head(5)\n"
   ]
  },
  {
   "cell_type": "code",
   "execution_count": 79,
   "metadata": {
    "collapsed": false
   },
   "outputs": [],
   "source": [
    "import seaborn as sns\n"
   ]
  },
  {
   "cell_type": "code",
   "execution_count": 81,
   "metadata": {
    "collapsed": false
   },
   "outputs": [
    {
     "data": {
      "image/png": "[encoded data removed]",
      "text/plain": [
       "<Figure size 600x400 with 1 Axes>"
      ]
     },
     "metadata": {},
     "output_type": "display_data"
    }
   ],
   "source": [
    "ax = sns.boxplot(x='neg', y='Label', data=sentiments , palette='rainbow')\n"
   ]
  },
  {
   "cell_type": "code",
   "execution_count": 82,
   "metadata": {
    "collapsed": false
   },
   "outputs": [
    {
     "data": {
      "image/png": "[encoded data removed]",
      "text/plain": [
       "<Figure size 600x400 with 1 Axes>"
      ]
     },
     "metadata": {},
     "output_type": "display_data"
    }
   ],
   "source": [
    "ax = sns.boxplot(x='neu', y='Label', data=sentiments, palette='rainbow')"
   ]
  },
  {
   "cell_type": "code",
   "execution_count": 83,
   "metadata": {
    "collapsed": false
   },
   "outputs": [
    {
     "data": {
      "image/png": "[encoded data removed]",
      "text/plain": [
       "<Figure size 600x400 with 1 Axes>"
      ]
     },
     "metadata": {},
     "output_type": "display_data"
    }
   ],
   "source": [
    "ax = sns.boxplot(x='pos', y='Label', data=sentiments, palette='rainbow')"
   ]
  },
  {
   "cell_type": "markdown",
   "metadata": {},
   "source": [
    "For each statement, we can extract 4 metrics: negativity, positivity, neutrality and a compound value of all of these metrics.\n",
    "\n",
    "An interesting observation is that for all 6 available truth labels, all the metrics follow the same distribution, suggesting that the dataset is well balanced in this regard."
   ]
  },
  {
   "cell_type": "markdown",
   "metadata": {},
   "source": [
    "-----------------------------------"
   ]
  },
  {
   "cell_type": "markdown",
   "metadata": {},
   "source": [
    "# Insights"
   ]
  },
  {
   "cell_type": "markdown",
   "metadata": {},
   "source": [
    "As we see many of the features are important in determining the truthfulness of the statement.\n",
    "\n",
    "Feature like Venue may also have a contributing factor. A interview may be more misleading than a state speech. \n",
    "Or the location may also determine it. A speech given in a remote location may be more misleading than otherwise.\n",
    "\n",
    "Hence an important aspect is to study the importance of such features and its relationships to build a stronger classifier in future.\n",
    "\n",
    "Along with that incorporating recent advances in natural language processing like sentiment analysis may also improve in classification results."
   ]
  },
  {
   "cell_type": "markdown",
   "metadata": {},
   "source": [
    "# Libraries"
   ]
  },
  {
   "cell_type": "markdown",
   "metadata": {},
   "source": [
    "* Matplotlib\n",
    "* Scipy\n",
    "* Seaborn\n",
    "* Nltk\n",
    "* Sklearn\n",
    "* Pandas\n",
    "\n",
    "\n",
    "\n"
   ]
  },
  {
   "cell_type": "markdown",
   "metadata": {},
   "source": [
    "# Code"
   ]
  },
  {
   "cell_type": "markdown",
   "metadata": {},
   "source": [
    "* https://scikit-learn.org/stable/modules/generated/sklearn.linear_model.LinearRegression.html\n",
    "* https://stackoverflow.com/questions/29960558/creating-a-bar-plot-using-seaborn\n",
    "* https://datascienceplus.com/seaborn-categorical-plots-in-python/\n",
    "* https://stackoverflow.com/questions/12541370/typeerror-encoding-is-an-invalid-keyword-argument-for-this-function/13867190\n",
    "* https://stackoverflow.com/questions/45890328/sklearn-metrics-for-multiclass-classification\n",
    "* https://stackoverflow.com/questions/45890328/sklearn-metrics-for-multiclass-classification\n",
    "* https://scikit-learn.org/stable/modules/multiclass.html\n",
    "* https://stackoverflow.com/questions/39303912/tfidfvectorizer-in-scikit-learn-valueerror-np-nan-is-an-invalid-document\n",
    "* https://scikit-learn.org/stable/modules/generated/sklearn.feature_extraction.text.CountVectorizer.html\n"
   ]
  },
  {
   "cell_type": "code",
   "execution_count": null,
   "metadata": {
    "collapsed": true
   },
   "outputs": [],
   "source": []
  }
 ],
 "metadata": {
  "anaconda-cloud": {},
  "kernelspec": {
   "display_name": "Python [Anaconda2]",
   "language": "python",
   "name": "Python [Anaconda2]"
  }
 },
 "nbformat": 4,
 "nbformat_minor": 0
}
